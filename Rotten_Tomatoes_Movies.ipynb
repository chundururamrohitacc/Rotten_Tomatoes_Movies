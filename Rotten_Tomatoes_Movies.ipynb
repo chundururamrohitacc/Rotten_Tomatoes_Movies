{
  "cells": [
    {
      "cell_type": "markdown",
      "source": [
        "# Install Required Libraries"
      ],
      "metadata": {
        "id": "kcp65P6rHBmI"
      }
    },
    {
      "cell_type": "code",
      "source": [
        "# Install Required Libraries\n",
        "!pip install pandas numpy matplotlib scikit-learn xlrd"
      ],
      "metadata": {
        "colab": {
          "base_uri": "https://localhost:8080/"
        },
        "id": "8XlQMFBzHCpZ",
        "outputId": "0f45f449-2c7a-4b33-fab2-37831cce8200"
      },
      "execution_count": null,
      "outputs": [
        {
          "output_type": "stream",
          "name": "stdout",
          "text": [
            "Requirement already satisfied: pandas in /usr/local/lib/python3.10/dist-packages (2.2.2)\n",
            "Requirement already satisfied: numpy in /usr/local/lib/python3.10/dist-packages (1.26.4)\n",
            "Requirement already satisfied: matplotlib in /usr/local/lib/python3.10/dist-packages (3.8.0)\n",
            "Requirement already satisfied: scikit-learn in /usr/local/lib/python3.10/dist-packages (1.5.2)\n",
            "Requirement already satisfied: xlrd in /usr/local/lib/python3.10/dist-packages (2.0.1)\n",
            "Requirement already satisfied: python-dateutil>=2.8.2 in /usr/local/lib/python3.10/dist-packages (from pandas) (2.9.0.post0)\n",
            "Requirement already satisfied: pytz>=2020.1 in /usr/local/lib/python3.10/dist-packages (from pandas) (2024.2)\n",
            "Requirement already satisfied: tzdata>=2022.7 in /usr/local/lib/python3.10/dist-packages (from pandas) (2024.2)\n",
            "Requirement already satisfied: contourpy>=1.0.1 in /usr/local/lib/python3.10/dist-packages (from matplotlib) (1.3.1)\n",
            "Requirement already satisfied: cycler>=0.10 in /usr/local/lib/python3.10/dist-packages (from matplotlib) (0.12.1)\n",
            "Requirement already satisfied: fonttools>=4.22.0 in /usr/local/lib/python3.10/dist-packages (from matplotlib) (4.55.3)\n",
            "Requirement already satisfied: kiwisolver>=1.0.1 in /usr/local/lib/python3.10/dist-packages (from matplotlib) (1.4.7)\n",
            "Requirement already satisfied: packaging>=20.0 in /usr/local/lib/python3.10/dist-packages (from matplotlib) (24.2)\n",
            "Requirement already satisfied: pillow>=6.2.0 in /usr/local/lib/python3.10/dist-packages (from matplotlib) (11.0.0)\n",
            "Requirement already satisfied: pyparsing>=2.3.1 in /usr/local/lib/python3.10/dist-packages (from matplotlib) (3.2.0)\n",
            "Requirement already satisfied: scipy>=1.6.0 in /usr/local/lib/python3.10/dist-packages (from scikit-learn) (1.13.1)\n",
            "Requirement already satisfied: joblib>=1.2.0 in /usr/local/lib/python3.10/dist-packages (from scikit-learn) (1.4.2)\n",
            "Requirement already satisfied: threadpoolctl>=3.1.0 in /usr/local/lib/python3.10/dist-packages (from scikit-learn) (3.5.0)\n",
            "Requirement already satisfied: six>=1.5 in /usr/local/lib/python3.10/dist-packages (from python-dateutil>=2.8.2->pandas) (1.17.0)\n"
          ]
        }
      ]
    },
    {
      "cell_type": "markdown",
      "source": [
        "# Import Libraries"
      ],
      "metadata": {
        "id": "Yzv2GHeWHNUy"
      }
    },
    {
      "cell_type": "code",
      "source": [
        "# Import Libraries\n",
        "import pandas as pd\n",
        "import numpy as np\n",
        "from sklearn.model_selection import train_test_split\n",
        "from sklearn.tree import DecisionTreeRegressor\n",
        "from sklearn.ensemble import RandomForestRegressor\n",
        "from sklearn.metrics import mean_squared_error, r2_score\n",
        "from sklearn.preprocessing import OneHotEncoder, StandardScaler"
      ],
      "metadata": {
        "id": "ncDNYo1mHSX9"
      },
      "execution_count": null,
      "outputs": []
    },
    {
      "cell_type": "markdown",
      "source": [
        "# Load Data"
      ],
      "metadata": {
        "id": "_rNZmUIXHXY-"
      }
    },
    {
      "cell_type": "code",
      "source": [
        "# Load Data\n",
        "data = pd.read_excel('Rotten_Tomatoes_Movies3.xls')"
      ],
      "metadata": {
        "id": "cO5ZJsruHbM0"
      },
      "execution_count": null,
      "outputs": []
    },
    {
      "cell_type": "markdown",
      "source": [
        "# Data Preparation and Preprocessing\n"
      ],
      "metadata": {
        "id": "26eEiPg_HgZG"
      }
    },
    {
      "cell_type": "code",
      "source": [
        "# Data Preparation and Preprocessing\n",
        "# Handle missing values\n",
        "data['genre'] = data['genre'].fillna('Unknown')\n",
        "data['studio_name'] = data['studio_name'].fillna('Unknown')\n",
        "data['runtime_in_minutes'] = data['runtime_in_minutes'].fillna(data['runtime_in_minutes'].median())\n",
        "\n",
        "# Drop rows with missing target\n",
        "data = data.dropna(subset=['audience_rating'])\n",
        "\n",
        "# Feature engineering\n",
        "data['in_theaters_year'] = pd.to_datetime(data['in_theaters_date'], errors='coerce').dt.year\n",
        "data['on_streaming_year'] = pd.to_datetime(data['on_streaming_date'], errors='coerce').dt.year\n",
        "data['time_to_streaming'] = (pd.to_datetime(data['on_streaming_date'], errors='coerce') -\n",
        "                             pd.to_datetime(data['in_theaters_date'], errors='coerce')).dt.days"
      ],
      "metadata": {
        "colab": {
          "base_uri": "https://localhost:8080/"
        },
        "id": "9QGyUTlhHgA-",
        "outputId": "214042c2-ccdd-4c1a-a7bc-db1733c561c7"
      },
      "execution_count": null,
      "outputs": [
        {
          "output_type": "stream",
          "name": "stderr",
          "text": [
            "<ipython-input-21-25b8a3714ed2>:11: SettingWithCopyWarning: \n",
            "A value is trying to be set on a copy of a slice from a DataFrame.\n",
            "Try using .loc[row_indexer,col_indexer] = value instead\n",
            "\n",
            "See the caveats in the documentation: https://pandas.pydata.org/pandas-docs/stable/user_guide/indexing.html#returning-a-view-versus-a-copy\n",
            "  data['in_theaters_year'] = pd.to_datetime(data['in_theaters_date'], errors='coerce').dt.year\n",
            "<ipython-input-21-25b8a3714ed2>:12: SettingWithCopyWarning: \n",
            "A value is trying to be set on a copy of a slice from a DataFrame.\n",
            "Try using .loc[row_indexer,col_indexer] = value instead\n",
            "\n",
            "See the caveats in the documentation: https://pandas.pydata.org/pandas-docs/stable/user_guide/indexing.html#returning-a-view-versus-a-copy\n",
            "  data['on_streaming_year'] = pd.to_datetime(data['on_streaming_date'], errors='coerce').dt.year\n",
            "<ipython-input-21-25b8a3714ed2>:13: SettingWithCopyWarning: \n",
            "A value is trying to be set on a copy of a slice from a DataFrame.\n",
            "Try using .loc[row_indexer,col_indexer] = value instead\n",
            "\n",
            "See the caveats in the documentation: https://pandas.pydata.org/pandas-docs/stable/user_guide/indexing.html#returning-a-view-versus-a-copy\n",
            "  data['time_to_streaming'] = (pd.to_datetime(data['on_streaming_date'], errors='coerce') -\n"
          ]
        }
      ]
    },
    {
      "cell_type": "markdown",
      "source": [
        "# Feature Selection and Encoding"
      ],
      "metadata": {
        "id": "U7zwdJqmHpwm"
      }
    },
    {
      "cell_type": "code",
      "source": [
        "# Feature Selection and Encoding\n",
        "features = ['rating', 'genre', 'studio_name', 'runtime_in_minutes', 'tomatometer_rating',\n",
        "            'tomatometer_count', 'in_theaters_year', 'on_streaming_year', 'time_to_streaming']\n",
        "target = 'audience_rating'\n",
        "\n",
        "categorical_features = ['rating', 'genre', 'studio_name']\n",
        "numerical_features = ['runtime_in_minutes', 'tomatometer_rating', 'tomatometer_count',\n",
        "                      'in_theaters_year', 'on_streaming_year', 'time_to_streaming']\n",
        "\n",
        "# Ensure all categorical columns are strings\n",
        "data[categorical_features] = data[categorical_features].astype(str)\n",
        "\n",
        "# One-hot encoding for categorical features\n",
        "encoder = OneHotEncoder(handle_unknown='ignore', sparse_output=False)\n",
        "encoded_categorical = encoder.fit_transform(data[categorical_features])\n",
        "encoded_categorical = pd.DataFrame(encoded_categorical, columns=encoder.get_feature_names_out(categorical_features))\n",
        "\n",
        "# Scaling numerical features\n",
        "scaler = StandardScaler()\n",
        "scaled_numerical = scaler.fit_transform(data[numerical_features])\n",
        "scaled_numerical = pd.DataFrame(scaled_numerical, columns=numerical_features)\n",
        "\n",
        "# Combine all features\n",
        "X = pd.concat([scaled_numerical, encoded_categorical], axis=1)\n",
        "y = data[target]"
      ],
      "metadata": {
        "colab": {
          "base_uri": "https://localhost:8080/"
        },
        "id": "IGzZXeAYHtbe",
        "outputId": "f550f68f-4f47-488d-94b0-e57f3f1452fe"
      },
      "execution_count": null,
      "outputs": [
        {
          "output_type": "stream",
          "name": "stderr",
          "text": [
            "<ipython-input-22-5b677788d722>:11: SettingWithCopyWarning: \n",
            "A value is trying to be set on a copy of a slice from a DataFrame.\n",
            "Try using .loc[row_indexer,col_indexer] = value instead\n",
            "\n",
            "See the caveats in the documentation: https://pandas.pydata.org/pandas-docs/stable/user_guide/indexing.html#returning-a-view-versus-a-copy\n",
            "  data[categorical_features] = data[categorical_features].astype(str)\n"
          ]
        }
      ]
    },
    {
      "cell_type": "markdown",
      "source": [
        "#Split Data\n"
      ],
      "metadata": {
        "id": "JYPJQ0zsHwvg"
      }
    },
    {
      "cell_type": "code",
      "source": [
        "# Split Data\n",
        "X_train, X_test, y_train, y_test = train_test_split(X, y, test_size=0.2, random_state=42)"
      ],
      "metadata": {
        "id": "0xRLQ-CZHwZm"
      },
      "execution_count": null,
      "outputs": []
    },
    {
      "cell_type": "markdown",
      "source": [
        "#Train Models and Evaluate Performance\n"
      ],
      "metadata": {
        "id": "pdeKtXrFH5cx"
      }
    },
    {
      "cell_type": "markdown",
      "source": [
        "Decision Tree Classifier with Three Leaf Node"
      ],
      "metadata": {
        "id": "LRTYgY_VIBnM"
      }
    },
    {
      "cell_type": "code",
      "source": [
        "# Decision Tree Classifier with Three Leaf Nodes\n",
        "dt_three_leaf = DecisionTreeRegressor(max_leaf_nodes=3, random_state=42)\n",
        "dt_three_leaf.fit(X_train, y_train)\n",
        "y_pred_dt_three_leaf = dt_three_leaf.predict(X_test)\n",
        "print(\"Decision Tree (Three Leaf Nodes):\")\n",
        "print(\"MSE:\", mean_squared_error(y_test, y_pred_dt_three_leaf))\n",
        "print(\"RMSE:\", np.sqrt(mean_squared_error(y_test, y_pred_dt_three_leaf)))\n",
        "print(\"R²:\", r2_score(y_test, y_pred_dt_three_leaf))\n"
      ],
      "metadata": {
        "colab": {
          "base_uri": "https://localhost:8080/"
        },
        "id": "JvvTbb56H5HC",
        "outputId": "6fc982b6-7227-4e46-f755-0a6d65d39956"
      },
      "execution_count": null,
      "outputs": [
        {
          "output_type": "stream",
          "name": "stdout",
          "text": [
            "Decision Tree (Three Leaf Nodes):\n",
            "MSE: 251.9378911064212\n",
            "RMSE: 15.872551499567459\n",
            "R²: 0.3895597665542895\n"
          ]
        }
      ]
    },
    {
      "cell_type": "markdown",
      "source": [
        "Decision Tree Classifier with Default Parameters"
      ],
      "metadata": {
        "id": "ufmc_IxqII62"
      }
    },
    {
      "cell_type": "code",
      "source": [
        "# Decision Tree Classifier with Default Parameters\n",
        "dt_default = DecisionTreeRegressor(random_state=42)\n",
        "dt_default.fit(X_train, y_train)\n",
        "y_pred_dt_default = dt_default.predict(X_test)\n",
        "print(\"\\nDecision Tree (Default):\")\n",
        "print(\"MSE:\", mean_squared_error(y_test, y_pred_dt_default))\n",
        "print(\"RMSE:\", np.sqrt(mean_squared_error(y_test, y_pred_dt_default)))\n",
        "print(\"R²:\", r2_score(y_test, y_pred_dt_default))"
      ],
      "metadata": {
        "colab": {
          "base_uri": "https://localhost:8080/"
        },
        "id": "LSxqGb-NIMt1",
        "outputId": "dc956bae-6212-4d63-b2cf-0efedfd1b487"
      },
      "execution_count": null,
      "outputs": [
        {
          "output_type": "stream",
          "name": "stdout",
          "text": [
            "\n",
            "Decision Tree (Default):\n",
            "MSE: 368.26632092739476\n",
            "RMSE: 19.190266306838858\n",
            "R²: 0.1076984175351694\n"
          ]
        }
      ]
    },
    {
      "cell_type": "markdown",
      "source": [
        "Random Forest with Default Parameters"
      ],
      "metadata": {
        "id": "UStVw4NYIPGS"
      }
    },
    {
      "cell_type": "code",
      "source": [
        "# Random Forest Classifier with Feature Selection\n",
        "feature_importances = rf_default.feature_importances_\n",
        "important_features = X_train.columns[np.argsort(feature_importances)[-10:]]\n",
        "\n",
        "X_train_selected = X_train[important_features]\n",
        "X_test_selected = X_test[important_features]\n",
        "rf_selected = RandomForestRegressor(random_state=42)\n",
        "rf_selected.fit(X_train_selected, y_train)\n",
        "y_pred_rf_selected = rf_selected.predict(X_test_selected)\n",
        "print(\"\\nRandom Forest (Feature Selection):\")\n",
        "print(\"MSE:\", mean_squared_error(y_test, y_pred_rf_selected))\n",
        "print(\"RMSE:\", np.sqrt(mean_squared_error(y_test, y_pred_rf_selected)))\n",
        "print(\"R²:\", r2_score(y_test, y_pred_rf_selected))\n"
      ],
      "metadata": {
        "colab": {
          "base_uri": "https://localhost:8080/"
        },
        "id": "4xS-ear4IPaa",
        "outputId": "fcc541a5-1294-4a01-cd59-c5aecc219b85"
      },
      "execution_count": null,
      "outputs": [
        {
          "output_type": "stream",
          "name": "stdout",
          "text": [
            "\n",
            "Random Forest (Feature Selection):\n",
            "MSE: 212.24768635299804\n",
            "RMSE: 14.56872287995753\n",
            "R²: 0.4857283013816026\n"
          ]
        }
      ]
    },
    {
      "cell_type": "markdown",
      "source": [
        "Feature Selection with Random Forest"
      ],
      "metadata": {
        "id": "6tgq2teCIcx6"
      }
    },
    {
      "cell_type": "code",
      "source": [
        "# Random Forest Classifier with Feature Selection\n",
        "feature_importances = rf_default.feature_importances_\n",
        "important_features = X_train.columns[np.argsort(feature_importances)[-10:]]\n",
        "\n",
        "X_train_selected = X_train[important_features]\n",
        "X_test_selected = X_test[important_features]\n",
        "rf_selected = RandomForestRegressor(random_state=42)\n",
        "rf_selected.fit(X_train_selected, y_train)\n",
        "y_pred_rf_selected = rf_selected.predict(X_test_selected)\n",
        "print(\"\\nRandom Forest (Feature Selection):\")\n",
        "print(\"MSE:\", mean_squared_error(y_test, y_pred_rf_selected))\n",
        "print(\"RMSE:\", np.sqrt(mean_squared_error(y_test, y_pred_rf_selected)))\n",
        "print(\"R²:\", r2_score(y_test, y_pred_rf_selected))"
      ],
      "metadata": {
        "colab": {
          "base_uri": "https://localhost:8080/"
        },
        "id": "FlXBKORnIcfK",
        "outputId": "a5f47a55-f133-40b6-c915-646c4ba380a4"
      },
      "execution_count": null,
      "outputs": [
        {
          "output_type": "stream",
          "name": "stdout",
          "text": [
            "\n",
            "Random Forest (Feature Selection):\n",
            "MSE: 212.24768635299804\n",
            "RMSE: 14.56872287995753\n",
            "R²: 0.4857283013816026\n"
          ]
        }
      ]
    },
    {
      "cell_type": "markdown",
      "source": [
        "Weighted Random Forest"
      ],
      "metadata": {
        "id": "73zdjzmoIjyg"
      }
    },
    {
      "cell_type": "code",
      "source": [
        "# Weighted Random Forest Classifier with Feature Selection\n",
        "rf_weighted = RandomForestRegressor(random_state=42, max_depth=10)\n",
        "rf_weighted.fit(X_train_selected, y_train)\n",
        "y_pred_rf_weighted = rf_weighted.predict(X_test_selected)\n",
        "print(\"\\nWeighted Random Forest (Feature Selection):\")\n",
        "print(\"MSE:\", mean_squared_error(y_test, y_pred_rf_weighted))\n",
        "print(\"RMSE:\", np.sqrt(mean_squared_error(y_test, y_pred_rf_weighted)))\n",
        "print(\"R²:\", r2_score(y_test, y_pred_rf_weighted))"
      ],
      "metadata": {
        "colab": {
          "base_uri": "https://localhost:8080/"
        },
        "id": "akyAhjKXIjhd",
        "outputId": "187310dd-e6df-406b-863f-193abf07cadc"
      },
      "execution_count": null,
      "outputs": [
        {
          "output_type": "stream",
          "name": "stdout",
          "text": [
            "\n",
            "Weighted Random Forest (Feature Selection):\n",
            "MSE: 202.6336452085284\n",
            "RMSE: 14.234944510201942\n",
            "R²: 0.5090229217136735\n"
          ]
        }
      ]
    },
    {
      "cell_type": "markdown",
      "source": [
        "#visualizations of model performance"
      ],
      "metadata": {
        "id": "x2NdPgHHJh6A"
      }
    },
    {
      "cell_type": "code",
      "source": [
        "import matplotlib.pyplot as plt\n",
        "\n",
        "# Accuracy/R² values of all models\n",
        "model_names = [\n",
        "    \"Decision Tree (Three Leaf Nodes)\",\n",
        "    \"Decision Tree (Default)\",\n",
        "    \"Random Forest (Default)\",\n",
        "    \"Random Forest (Feature Selection)\",\n",
        "    \"Weighted Random Forest (Feature Selection)\"\n",
        "]\n",
        "\n",
        "# Hypothetical R² values for demonstration purposes\n",
        "# Replace these with actual R² values from your models\n",
        "r2_values = [0.38, 0.10, 0.48, 0.48, 0.50]\n",
        "\n",
        "# Plotting the R² values\n",
        "# Adjusting the figure size to 5x5\n",
        "plt.figure(figsize=(10, 5))\n",
        "plt.barh(model_names, r2_values, color=['blue', 'green', 'red', 'purple', 'orange'])\n",
        "plt.xlabel(\"R² Score (Accuracy)\")\n",
        "plt.ylabel(\"Models\")\n",
        "plt.title(\"Model Accuracy (R² Score) Comparison\")\n",
        "plt.grid(axis='x', linestyle='--', alpha=0.7)\n",
        "plt.show()\n",
        "\n"
      ],
      "metadata": {
        "colab": {
          "base_uri": "https://localhost:8080/",
          "height": 478
        },
        "id": "RHey-VaMJDog",
        "outputId": "5c284104-2d1f-42a3-f888-21ec7ed187e4"
      },
      "execution_count": null,
      "outputs": [
        {
          "output_type": "display_data",
          "data": {
            "text/plain": [
              "<Figure size 1000x500 with 1 Axes>"
            ],
            "image/png": "[encoded data removed]"
          },
          "metadata": {}
        }
      ]
    }
  ],
  "metadata": {
    "colab": {
      "provenance": [],
      "gpuType": "V28",
      "toc_visible": true
    },
    "kernelspec": {
      "display_name": "Python 3",
      "name": "python3"
    },
    "language_info": {
      "name": "python"
    },
    "accelerator": "TPU"
  },
  "nbformat": 4,
  "nbformat_minor": 0
}